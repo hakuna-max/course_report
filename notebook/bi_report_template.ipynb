{
 "cells": [
  {
   "cell_type": "markdown",
   "id": "7335eef2-6d42-47f1-a8e4-d6045e707a35",
   "metadata": {},
   "source": [
    "# 引言 （问题描述）"
   ]
  },
  {
   "cell_type": "markdown",
   "id": "337e7e37-f421-4960-a820-fdb89711c600",
   "metadata": {},
   "source": [
    "（描述研究的背景、问题、主要目标、数据来源等）"
   ]
  },
  {
   "cell_type": "markdown",
   "id": "3a3defd5-6705-4bf1-ac62-dc94eab8b609",
   "metadata": {},
   "source": [
    "# 数据预处理"
   ]
  },
  {
   "cell_type": "markdown",
   "id": "59e75b26-db20-4648-8799-a73bde1a6f85",
   "metadata": {},
   "source": [
    "（应包括数据清洗、缺失值的处理、异常值检测、数据转换）"
   ]
  },
  {
   "cell_type": "markdown",
   "id": "57c4213a-f5ea-41f0-9c58-c1a6f7f1aa23",
   "metadata": {},
   "source": [
    "# 实验原理"
   ]
  },
  {
   "cell_type": "markdown",
   "id": "1572d7bc-8ed7-4512-90fe-bbe0943cc3fd",
   "metadata": {},
   "source": [
    "（以动态数组与链表比较实验项目为例，简述动态数组和链表的基本原理和特点；说明为什么比较这两种数据结构是有意义的等）"
   ]
  },
  {
   "cell_type": "markdown",
   "id": "f1da8532-b758-4450-88b9-d171c268e94a",
   "metadata": {},
   "source": [
    "# 特征工程"
   ]
  },
  {
   "cell_type": "markdown",
   "id": "d2218085-60c6-4756-b1f4-f74f590e6d8e",
   "metadata": {},
   "source": [
    "（应包括基线模型描述、效果评估，可以采用可视化的技术对效果进行详细描述）"
   ]
  },
  {
   "cell_type": "markdown",
   "id": "e48b3b21-9039-49fe-9c14-f03822975889",
   "metadata": {},
   "source": [
    "# 算法选择与调优"
   ]
  },
  {
   "cell_type": "markdown",
   "id": "4a694a85-d1b0-462c-924a-f602895ab918",
   "metadata": {},
   "source": [
    "（算法选择及调优过程，方法描述）"
   ]
  },
  {
   "cell_type": "markdown",
   "id": "3827775f-cd87-443e-9f9f-3110abcead09",
   "metadata": {},
   "source": [
    "# 结果分析"
   ]
  },
  {
   "cell_type": "markdown",
   "id": "1c64e1c4-26e7-4c82-bac1-74b1f87caef7",
   "metadata": {},
   "source": [
    "（应包括模型性能评估、特征重要性、有效性等方面的讨论）"
   ]
  },
  {
   "cell_type": "markdown",
   "id": "bdb4ebb4-69f2-4a20-b24a-b16128ff0921",
   "metadata": {},
   "source": [
    "# 实验设计"
   ]
  },
  {
   "cell_type": "markdown",
   "id": "a71036bd-db33-4b27-90f3-8b4992f1f81a",
   "metadata": {},
   "source": [
    "- 说明如何设计实验来比较两种数据结构在插入、删除和随机访问操作上的性能\n",
    "- 包括测试用例、测试数据和预期结果"
   ]
  },
  {
   "cell_type": "markdown",
   "id": "626e7d28-eda9-413e-b462-13b51f37906d",
   "metadata": {},
   "source": [
    "# 实验结果"
   ]
  },
  {
   "cell_type": "markdown",
   "id": "133edbe5-a424-46a6-aa04-3da126c7b80e",
   "metadata": {},
   "source": [
    "- 展示实验数据，可能包括图表等\n",
    "- 对比动态数组和链表在各项操作上的性能"
   ]
  },
  {
   "cell_type": "markdown",
   "id": "297b7df8-b293-4080-b263-ae9778d5fd62",
   "metadata": {},
   "source": [
    "# 结果分析"
   ]
  },
  {
   "cell_type": "markdown",
   "id": "d3a741c7-b572-43b6-baf8-967aec6ce4f2",
   "metadata": {},
   "source": [
    "- 分析实验结果，解释数据显示的性能差异。\n",
    "- 讨论实验结果对理解这两种数据结构的特点有何帮助。"
   ]
  },
  {
   "cell_type": "markdown",
   "id": "fd7ac186-244b-4641-b5b7-0ee027b9d9b5",
   "metadata": {
    "editable": true,
    "slideshow": {
     "slide_type": ""
    },
    "tags": []
   },
   "source": [
    "# 决策支持与实际应用"
   ]
  },
  {
   "cell_type": "markdown",
   "id": "24bf3f4f-9586-4c4a-9b2b-e87a5f99392a",
   "metadata": {},
   "source": [
    "（应包括评估数据挖掘结果对实际业务决策支持的深度见解和实用性描述）"
   ]
  },
  {
   "cell_type": "markdown",
   "id": "192e6542-a50a-477a-a8e3-dcd57c7575de",
   "metadata": {},
   "source": [
    "# 结论"
   ]
  },
  {
   "cell_type": "markdown",
   "id": "f3055aa5-0984-4bd8-a2cf-450b40cca0c7",
   "metadata": {},
   "source": [
    "（总结该项研究的结果和学到的知识点，改进建议的实用性和创新性）"
   ]
  },
  {
   "cell_type": "markdown",
   "id": "f6517a80-1ed3-47d2-aa43-ef7b818479b3",
   "metadata": {},
   "source": [
    "# 参考文献"
   ]
  },
  {
   "cell_type": "markdown",
   "id": "e491303f-2236-4084-b48e-bcc52c956705",
   "metadata": {},
   "source": [
    "- 列出课程报告中引用的所有参考文献。\n",
    "- 参考文献格式：GB/T7714—2015"
   ]
  },
  {
   "cell_type": "markdown",
   "id": "bcbde6b3-3271-4e91-adba-ebc3b29bfe19",
   "metadata": {},
   "source": [
    "# 商务智能与数据挖掘课程结课论文评分细则"
   ]
  },
  {
   "cell_type": "markdown",
   "id": "fac77888-0626-4b89-99a8-9e7c4ac2c9f3",
   "metadata": {},
   "source": [
    "## 问题描述（总分20分）"
   ]
  },
  {
   "cell_type": "markdown",
   "id": "4ecc2317-d24b-4b44-9b02-6db749cb730a",
   "metadata": {},
   "source": [
    "1)\t相关背景（5分）：评估所选数据集的应用场景及其行业背景描述的详细性和准确性。\n",
    "2)\t问题陈述（10分）：评估问题描述的清晰度、目标的明确性以及对业务或组织的重要性的阐释。\n",
    "3)\t数据可用性（5分）：评估数据集来源描述的清晰度和数据的适用性。"
   ]
  },
  {
   "cell_type": "markdown",
   "id": "4d0b128e-ba0c-4e77-af6e-55f7cea0bc76",
   "metadata": {},
   "source": [
    "## 数据预处理（总分25分）"
   ]
  },
  {
   "cell_type": "markdown",
   "id": "e819bfdc-6b8a-496e-91de-9d4ad4618ba4",
   "metadata": {},
   "source": [
    "1)\t数据清洗（5分）：评估数据清洗步骤的完整性和效果。\n",
    "2)\t缺失值处理（5分）：评估缺失值处理方法的适当性和实施效果。\n",
    "3)\t异常值检测（5分）：评估异常值检测方法的合理性和实施效果。\n",
    "4)\t数据转换（5分）：评估数据转换步骤的适用性和执行的准确性。\n",
    "5)\t特征工程（5分）：评估特征工程的创新性、实施效果和可视化分析的质量。"
   ]
  },
  {
   "cell_type": "markdown",
   "id": "8b660e61-1667-4de3-8aaf-37a5e043cc1d",
   "metadata": {},
   "source": [
    "## 算法选择与调优（总分15分）"
   ]
  },
  {
   "cell_type": "markdown",
   "id": "bf685b74-7a57-463c-a53f-d8d06a914d9e",
   "metadata": {},
   "source": [
    "1)\t算法选择理由（10分）：评估算法选择的合理性、适用性描述以及理由的充分性。\n",
    "2)\t调优方法（5分）：评估调优方法的适当性和对模型性能改进的有效性。"
   ]
  },
  {
   "cell_type": "markdown",
   "id": "55388fb5-3bd3-4dcf-92f3-d19da044c17c",
   "metadata": {},
   "source": [
    "## 结果分析（总分20分）"
   ]
  },
  {
   "cell_type": "markdown",
   "id": "de788228-08df-45a3-941d-7344901cda4a",
   "metadata": {},
   "source": [
    "1)\t模型性能评估（10分）：评估使用的评估指标的适用性及其解释的深度。\n",
    "2)\t特征重要性（5分）：评估对特征重要性分析的深度和准确性。\n",
    "3)\t有效性讨论（5分）：评估解决方案有效性和局限性的讨论的全面性及其深度。"
   ]
  },
  {
   "cell_type": "markdown",
   "id": "3e04206d-096e-4c4d-b2df-8ee4ef4ea7be",
   "metadata": {},
   "source": [
    "## Python编程应用（总分10分）"
   ]
  },
  {
   "cell_type": "markdown",
   "id": "e8aaf900-7e6d-40bc-965f-f36dc38e9d71",
   "metadata": {},
   "source": [
    "1)\t工具和库的使用（5分）：评估Python及其库的使用是否恰当、有效。\n",
    "2)\t代码片段（5分）：评估代码的清晰度、注释的充分性和代码的功能性。"
   ]
  },
  {
   "cell_type": "markdown",
   "id": "62b3d2f1-3beb-4ad3-901e-ab7922463ce3",
   "metadata": {},
   "source": [
    "## 决策支持与实际应用（总分5分）"
   ]
  },
  {
   "cell_type": "markdown",
   "id": "7d806a96-476f-4ca5-adb5-2148f2fa9f90",
   "metadata": {},
   "source": [
    "1)\t业务决策支持（3分）：评估数据挖掘结果对实际业务决策支持的见解深度和实用性。\n",
    "2)\t改进建议（2分）：评估改进建议的实用性和创新性。"
   ]
  },
  {
   "cell_type": "markdown",
   "id": "b0de575c-7b84-4c27-88f0-303ad60f8ead",
   "metadata": {},
   "source": [
    "## 参考文献（总分5分）"
   ]
  },
  {
   "cell_type": "markdown",
   "id": "53125458-aa27-4710-b6a7-fc56fcdc2f44",
   "metadata": {},
   "source": [
    "1)\t参考文献（5分）：评估参考文献的广度、相关性和正确引用。"
   ]
  },
  {
   "cell_type": "markdown",
   "id": "eeef9bc9-e23a-4198-ad59-e1c61019c94f",
   "metadata": {},
   "source": [
    "## 其他（总分可视情况适当调整）"
   ]
  },
  {
   "cell_type": "markdown",
   "id": "27427c63-be6c-4355-a9ca-2304f090d298",
   "metadata": {},
   "source": [
    "1)\t论文结构（5分）：评估论文的整体结构、逻辑性和清晰度。\n",
    "2)\t论文表达（5分）：评估论文的语言表达、图表使用的恰当性和可读性。\n",
    "3)\t文件组织（5分）：评估提交的文件组织结构和命名的规范性。"
   ]
  },
  {
   "cell_type": "markdown",
   "id": "0cf4419d",
   "metadata": {},
   "source": [
    "# 文档使用示例"
   ]
  },
  {
   "cell_type": "markdown",
   "id": "ddd0c402",
   "metadata": {},
   "source": [
    "## Notebook 简介"
   ]
  },
  {
   "cell_type": "markdown",
   "id": "a440be53",
   "metadata": {},
   "source": [
    "Jupyter notebook 的 Cell 可以是 Markdown、Code 以及 Raw 状态。不同的状态其功能显然不同。比如在 Markdown 状态下，该 Cell 支持[CommonMark](https://commonmark.org/) 标准的 Markdown 语法。在 Code 状态下，可以输入相应的代码，比如 Python、R、Matlab 等。如果要运行相应的代码，需要确认是否安装了相应的内核，特别是除 Python 以外的其他语言。"
   ]
  },
  {
   "cell_type": "markdown",
   "id": "0a10b4e9",
   "metadata": {},
   "source": [
    "在本门课程中，Markdown 主要用于对课程报告的背景、数据预处理过程等等的描述。其基本的使用过程，请同学们参考 [CommonMark](https://commonmark.org/) 标准，或者 [Basic writing and formatting syntax](https://docs.github.com/en/get-started/writing-on-github/getting-started-with-writing-and-formatting-on-github/basic-writing-and-formatting-syntax)，以及 [GitHub Flavored Markdown Spec](https://github.github.com/gfm/)。"
   ]
  },
  {
   "cell_type": "markdown",
   "id": "1447b312",
   "metadata": {},
   "source": [
    "关于如何使用Jupyter notebook 来做数据分析，请参考 [Jupyter notebook](https://docs.jupyter.org/en/latest/) 官网的介绍"
   ]
  },
  {
   "cell_type": "markdown",
   "id": "442a603b",
   "metadata": {},
   "source": [
    "## 文献引用示例"
   ]
  },
  {
   "cell_type": "markdown",
   "id": "55109281",
   "metadata": {},
   "source": [
    "关于文献引用的问题，该课程推荐使用 [Zotero](https://www.zotero.org/) 文献管理器，并结合其[Better BibTeX](https://retorque.re/zotero-better-bibtex/) 插件来导出格式为 `.bib` 的文件。然后将其放到与您的 `notebook.ipynb` 文件所在的文件夹。这样我们就可以使用 latex 文档中引用文献的基本范式在正文中插入相应的文献。比如，在一句话的末尾使用 `\\citep{tapioTheoryDecouplingDegrees2005}` ，然后使用 `jupyter nbconvert notebook.ipynb --to pdf --template=coursereport` 命令将整个文档转换为 pdf 格式时，会在pdf中显示为：“这是一段示例\\citep{tapioTheoryDecouplingDegrees2005}” 。这样的标准引用格式，并且在文末生成相应的参考文献，且符合GBT7714-2015的标准的文献格式。如果您想表达 “XXX 的研究阐明了一个YYY的科学事实”，你可以使用 “`\\citet{shaikCropInsuranceAdjusted2013}` 的研究阐明了一个YYY的科学事实”这样的方式来引用相关文献。在 pdf 中会显示为：“\\citet{shaikCropInsuranceAdjusted2013} 的研究阐明了一个YYY的科学事实”。更为具体的介绍可以查看 [natbib](https://ftp.yz.yamagata-u.ac.jp/pub/CTAN/macros/latex/contrib/natbib/natbib.pdf) 包的说明。"
   ]
  },
  {
   "cell_type": "markdown",
   "id": "76c5d3af",
   "metadata": {},
   "source": [
    "## 插入图片示例"
   ]
  },
  {
   "cell_type": "markdown",
   "id": "20ebe31e",
   "metadata": {},
   "source": [
    "插入图片遵循 Markdown 插入图片的基本语法（`![](figure_path)`），具体的方式建议查看 Markdown 的基本使用。"
   ]
  },
  {
   "cell_type": "markdown",
   "id": "22e89cdc",
   "metadata": {
    "figcaption": "这是插入图片的标题示例",
    "figlabel": "这是插入图片的标识示例"
   },
   "source": [
    "![](fig/figure.png)"
   ]
  },
  {
   "cell_type": "markdown",
   "id": "fdd87f22",
   "metadata": {
    "figlabel": "这是插入图片的标识示例"
   },
   "source": [
    "![](fig/another.jpg)"
   ]
  },
  {
   "cell_type": "markdown",
   "id": "afe9c975",
   "metadata": {},
   "source": [
    "## 数学公式输入示例"
   ]
  },
  {
   "cell_type": "markdown",
   "id": "b1342008",
   "metadata": {},
   "source": [
    "该模板使用了 `amsmath` 包来渲染数学公式，具体的公式编辑格式可以参考 [overleaf](https://www.overleaf.com/learn/latex/Mathematical_expressions) 网站上的 Mathematics 模块的介绍。以下是可能用到的公式编辑示例："
   ]
  },
  {
   "cell_type": "markdown",
   "id": "80e70203",
   "metadata": {},
   "source": [
    "### 无编号的公式"
   ]
  },
  {
   "cell_type": "markdown",
   "id": "10e6b912",
   "metadata": {},
   "source": [
    "```tex\n",
    "$$\n",
    "    y = \\sum_{i=1}^{n} i\n",
    "$$\n",
    "```\n",
    "\n",
    "以上代码将生成如下的形式：\n",
    "\n",
    "$$\n",
    "    y = \\sum_{i=1}^{n} i\n",
    "$$"
   ]
  },
  {
   "cell_type": "markdown",
   "id": "7ed32472",
   "metadata": {},
   "source": [
    "### 有编号的公式"
   ]
  },
  {
   "cell_type": "markdown",
   "id": "b0328fdd",
   "metadata": {},
   "source": [
    "```tex\n",
    "\\begin{equation}\\label{eq:sum}\n",
    "    y = \\sum_{i=1}^{n} i\n",
    "\\end{equation}\n",
    "```\n",
    "\n",
    "以上代码块将显示为：\n",
    "\n",
    "\\begin{equation}\\label{eq:sum}\n",
    "    y = \\sum_{i=1}^{n} i\n",
    "\\end{equation}"
   ]
  },
  {
   "cell_type": "markdown",
   "id": "b8aac90e",
   "metadata": {},
   "source": [
    "### 行内公式"
   ]
  },
  {
   "cell_type": "markdown",
   "id": "3cc784e2",
   "metadata": {},
   "source": [
    "这是一段描述公式内容的语句，在这插入一个行内公式 $y + x = z$"
   ]
  },
  {
   "cell_type": "markdown",
   "id": "a0a9272d",
   "metadata": {},
   "source": [
    "### 对具有 `lable` 的公式的引用"
   ]
  },
  {
   "cell_type": "markdown",
   "id": "c931baae",
   "metadata": {},
   "source": [
    "这是一段描述公式内容的语句，如公式（\\ref{eq:sum}）所示。\n",
    "\n",
    "关于在 Notebook 中输入公式，仍然需要参考 Markdown 的基本语法，如果想生成可以引用的公式，需要给公式添加上 `label`。由于 Notebook 使用了Katex 来渲染公式，这个时候在 Notebook 中会显示解析错误，不过没有关系，在使用命令转换时，会在 pdf 中正确显示（只要您的公式符合 latex 的基本语法）。"
   ]
  },
  {
   "cell_type": "markdown",
   "id": "b9664aaf",
   "metadata": {},
   "source": [
    "### 更多的公式示例"
   ]
  },
  {
   "cell_type": "markdown",
   "id": "7762de56",
   "metadata": {},
   "source": [
    "\\begin{equation} \\label{eq1}\n",
    "\\begin{split}\n",
    "A & = \\frac{\\pi r^2}{2} \\\\\n",
    " & = \\frac{1}{2} \\pi r^2\n",
    "\\end{split}\n",
    "\\end{equation}\n",
    "\n",
    "- Displaying long equations\n",
    "\n",
    "\\begin{multline*}\n",
    "p(x) = 3x^6 + 14x^5y + 590x^4y^2 + 19x^3y^3 \\\\ \n",
    "- 12x^2y^4 - 12xy^5 + 2y^6 - a^3b^3\n",
    "\\end{multline*}\n",
    "\n",
    "\\begin{align*} \n",
    "2x - 5y &=  8 \\\\ \n",
    "3x + 9y &=  -12\n",
    "\\end{align*}\n",
    "\n",
    "- Aligning several equations\n",
    "\n",
    "\\begin{align*}\n",
    "x&=y           &  w &=z              &  a&=b+c\\\\\n",
    "2x&=-y         &  3w&=\\frac{1}{2}z   &  a&=b\\\\\n",
    "-4 + 5x&=2+y   &  w+2&=-1+w          &  ab&=cb\n",
    "\\end{align*}\n",
    "\n",
    "- Grouping and centering equations\n",
    "\n",
    "\\begin{gather*} \n",
    "2x - 5y =  8 \\\\ \n",
    "3x^2 + 9y =  3a + c\n",
    "\\end{gather*}\n",
    "\n",
    "以上公式的源代码请查看 `bi_report_template.ipynb` 文件。"
   ]
  },
  {
   "cell_type": "markdown",
   "id": "35415d12",
   "metadata": {},
   "source": [
    "## 生成图片示例（包含在最终 pdf 文档中隐藏不必要的cell内容的示例）"
   ]
  },
  {
   "cell_type": "code",
   "execution_count": 2,
   "id": "03091d9b",
   "metadata": {
    "hide": true
   },
   "outputs": [],
   "source": [
    "# 这段代码将不会出现在最终的 pdf 文档中\n",
    "# 设置系统路径以及导入必要的依赖库\n",
    "import sys\n",
    "sys.path.append(\"../\")\n",
    "\n",
    "import pandas as pd\n",
    "import matplotlib.pyplot as plt\n",
    "# apply custom matplotlib settings\n",
    "plt.style.use(style=\"../configs/matplotlib.mplstyle\")\n",
    "\n",
    "from dsa_report.tools import load_data\n",
    "\n",
    "def _repr_latex_(self):\n",
    "    return \"%s\" % self.to_latex()\n",
    "pd.DataFrame._repr_latex_ = _repr_latex_"
   ]
  },
  {
   "cell_type": "code",
   "execution_count": 3,
   "id": "4f008b5e",
   "metadata": {
    "hide": true,
    "tabcaption": "这是表格的标题",
    "tablabel": "tab:example"
   },
   "outputs": [
    {
     "data": {
      "text/html": [
       "<div>\n",
       "<style scoped>\n",
       "    .dataframe tbody tr th:only-of-type {\n",
       "        vertical-align: middle;\n",
       "    }\n",
       "\n",
       "    .dataframe tbody tr th {\n",
       "        vertical-align: top;\n",
       "    }\n",
       "\n",
       "    .dataframe thead th {\n",
       "        text-align: right;\n",
       "    }\n",
       "</style>\n",
       "<table border=\"1\" class=\"dataframe\">\n",
       "  <thead>\n",
       "    <tr style=\"text-align: right;\">\n",
       "      <th></th>\n",
       "      <th>Pclass</th>\n",
       "      <th>Name</th>\n",
       "      <th>Sex</th>\n",
       "      <th>Age</th>\n",
       "      <th>SibSp</th>\n",
       "      <th>Parch</th>\n",
       "    </tr>\n",
       "  </thead>\n",
       "  <tbody>\n",
       "    <tr>\n",
       "      <th>0</th>\n",
       "      <td>3</td>\n",
       "      <td>Braund, Mr. Owen Harris</td>\n",
       "      <td>male</td>\n",
       "      <td>22.0</td>\n",
       "      <td>1</td>\n",
       "      <td>0</td>\n",
       "    </tr>\n",
       "    <tr>\n",
       "      <th>1</th>\n",
       "      <td>1</td>\n",
       "      <td>Cumings, Mrs. John Bradley (Florence Briggs Th...</td>\n",
       "      <td>female</td>\n",
       "      <td>38.0</td>\n",
       "      <td>1</td>\n",
       "      <td>0</td>\n",
       "    </tr>\n",
       "    <tr>\n",
       "      <th>2</th>\n",
       "      <td>3</td>\n",
       "      <td>Heikkinen, Miss. Laina</td>\n",
       "      <td>female</td>\n",
       "      <td>26.0</td>\n",
       "      <td>0</td>\n",
       "      <td>0</td>\n",
       "    </tr>\n",
       "    <tr>\n",
       "      <th>3</th>\n",
       "      <td>1</td>\n",
       "      <td>Futrelle, Mrs. Jacques Heath (Lily May Peel)</td>\n",
       "      <td>female</td>\n",
       "      <td>35.0</td>\n",
       "      <td>1</td>\n",
       "      <td>0</td>\n",
       "    </tr>\n",
       "    <tr>\n",
       "      <th>4</th>\n",
       "      <td>3</td>\n",
       "      <td>Allen, Mr. William Henry</td>\n",
       "      <td>male</td>\n",
       "      <td>35.0</td>\n",
       "      <td>0</td>\n",
       "      <td>0</td>\n",
       "    </tr>\n",
       "    <tr>\n",
       "      <th>5</th>\n",
       "      <td>3</td>\n",
       "      <td>Moran, Mr. James</td>\n",
       "      <td>male</td>\n",
       "      <td>NaN</td>\n",
       "      <td>0</td>\n",
       "      <td>0</td>\n",
       "    </tr>\n",
       "    <tr>\n",
       "      <th>6</th>\n",
       "      <td>1</td>\n",
       "      <td>McCarthy, Mr. Timothy J</td>\n",
       "      <td>male</td>\n",
       "      <td>54.0</td>\n",
       "      <td>0</td>\n",
       "      <td>0</td>\n",
       "    </tr>\n",
       "    <tr>\n",
       "      <th>7</th>\n",
       "      <td>3</td>\n",
       "      <td>Palsson, Master. Gosta Leonard</td>\n",
       "      <td>male</td>\n",
       "      <td>2.0</td>\n",
       "      <td>3</td>\n",
       "      <td>1</td>\n",
       "    </tr>\n",
       "    <tr>\n",
       "      <th>8</th>\n",
       "      <td>3</td>\n",
       "      <td>Johnson, Mrs. Oscar W (Elisabeth Vilhelmina Berg)</td>\n",
       "      <td>female</td>\n",
       "      <td>27.0</td>\n",
       "      <td>0</td>\n",
       "      <td>2</td>\n",
       "    </tr>\n",
       "    <tr>\n",
       "      <th>9</th>\n",
       "      <td>2</td>\n",
       "      <td>Nasser, Mrs. Nicholas (Adele Achem)</td>\n",
       "      <td>female</td>\n",
       "      <td>14.0</td>\n",
       "      <td>1</td>\n",
       "      <td>0</td>\n",
       "    </tr>\n",
       "  </tbody>\n",
       "</table>\n",
       "</div>"
      ],
      "text/latex": [
       "\\begin{tabular}{lrllrrr}\n",
       "\\toprule\n",
       " & Pclass & Name & Sex & Age & SibSp & Parch \\\\\n",
       "\\midrule\n",
       "0 & 3 & Braund, Mr. Owen Harris & male & 22.000000 & 1 & 0 \\\\\n",
       "1 & 1 & Cumings, Mrs. John Bradley (Florence Briggs Thayer) & female & 38.000000 & 1 & 0 \\\\\n",
       "2 & 3 & Heikkinen, Miss. Laina & female & 26.000000 & 0 & 0 \\\\\n",
       "3 & 1 & Futrelle, Mrs. Jacques Heath (Lily May Peel) & female & 35.000000 & 1 & 0 \\\\\n",
       "4 & 3 & Allen, Mr. William Henry & male & 35.000000 & 0 & 0 \\\\\n",
       "5 & 3 & Moran, Mr. James & male & NaN & 0 & 0 \\\\\n",
       "6 & 1 & McCarthy, Mr. Timothy J & male & 54.000000 & 0 & 0 \\\\\n",
       "7 & 3 & Palsson, Master. Gosta Leonard & male & 2.000000 & 3 & 1 \\\\\n",
       "8 & 3 & Johnson, Mrs. Oscar W (Elisabeth Vilhelmina Berg) & female & 27.000000 & 0 & 2 \\\\\n",
       "9 & 2 & Nasser, Mrs. Nicholas (Adele Achem) & female & 14.000000 & 1 & 0 \\\\\n",
       "\\bottomrule\n",
       "\\end{tabular}\n"
      ],
      "text/plain": [
       "   Pclass                                               Name     Sex   Age  \\\n",
       "0       3                            Braund, Mr. Owen Harris    male  22.0   \n",
       "1       1  Cumings, Mrs. John Bradley (Florence Briggs Th...  female  38.0   \n",
       "2       3                             Heikkinen, Miss. Laina  female  26.0   \n",
       "3       1       Futrelle, Mrs. Jacques Heath (Lily May Peel)  female  35.0   \n",
       "4       3                           Allen, Mr. William Henry    male  35.0   \n",
       "5       3                                   Moran, Mr. James    male   NaN   \n",
       "6       1                            McCarthy, Mr. Timothy J    male  54.0   \n",
       "7       3                     Palsson, Master. Gosta Leonard    male   2.0   \n",
       "8       3  Johnson, Mrs. Oscar W (Elisabeth Vilhelmina Berg)  female  27.0   \n",
       "9       2                Nasser, Mrs. Nicholas (Adele Achem)  female  14.0   \n",
       "\n",
       "   SibSp  Parch  \n",
       "0      1      0  \n",
       "1      1      0  \n",
       "2      0      0  \n",
       "3      1      0  \n",
       "4      0      0  \n",
       "5      0      0  \n",
       "6      0      0  \n",
       "7      3      1  \n",
       "8      0      2  \n",
       "9      1      0  "
      ]
     },
     "execution_count": 3,
     "metadata": {},
     "output_type": "execute_result"
    }
   ],
   "source": [
    "# 这段代码将不会出现在最终的 pdf 文档中，但是会显示其输出结果\n",
    "# 加载数据\n",
    "train_data_path = \"../data/raw/train.csv\"\n",
    "\n",
    "train_data = load_data(train_data_path)\n",
    "\n",
    "train_data.iloc[:, 2:8].head(n=10)\n",
    "\n",
    "# 同学们在使用该功能时，有反馈当表格超过5列时会转换错误，但我测试后没有发现该问题\n",
    "# 如果您在使用过程中确认是该问题导致不能转换，请在 github 上提交issue，提交时，\n",
    "# 请按照 github issue 的规范组织问题"
   ]
  },
  {
   "cell_type": "code",
   "execution_count": 4,
   "id": "67fc39b2",
   "metadata": {
    "figcaption": "这是生成图片的标题示例",
    "figlabel": "fig:example",
    "hide": true
   },
   "outputs": [
    {
     "data": {
      "image/png": "[encoded data removed]",
      "text/plain": [
       "<Figure size 1200x600 with 1 Axes>"
      ]
     },
     "metadata": {},
     "output_type": "display_data"
    }
   ],
   "source": [
    "# 这段代码将不会出现在最终的 pdf 文档中，但是会显示其输出结果\n",
    "# 分析目标变量（Survived）\n",
    "# 计算生存和未生存的乘客数量\n",
    "survival_counts = train_data['Survived'].value_counts()\n",
    "\n",
    "# 计算生存和未生存的乘客比例\n",
    "survival_rates = (train_data['Survived'].value_counts(normalize=True) * 100).round(2)\n",
    "\n",
    "# 绘制条形图\n",
    "# plt.figure(figsize=(8, 6))\n",
    "bars = survival_counts.plot(kind='bar')\n",
    "plt.title('Survival Count in Titanic Dataset')\n",
    "plt.xlabel('Survived (1 = Survived, 0 = Not Survived)')\n",
    "plt.ylabel('Count')\n",
    "plt.xticks(rotation=0)\n",
    "\n",
    "# 在每个条形上添加数值标签\n",
    "for bar in bars.patches:\n",
    "    # 获取条形的位置信息和高度\n",
    "    y_value = bar.get_height()\n",
    "    x_value = bar.get_x() + bar.get_width() / 2\n",
    "\n",
    "    # 设置标签显示的数值\n",
    "    label = f\"{y_value:.0f}\"\n",
    "\n",
    "    # 在条形上方显示标签\n",
    "    plt.text(x_value, y_value, label, ha='center', va='bottom')\n",
    "\n",
    "plt.show()"
   ]
  },
  {
   "cell_type": "code",
   "execution_count": 5,
   "id": "2decbe3d",
   "metadata": {},
   "outputs": [
    {
     "name": "stdout",
     "output_type": "stream",
     "text": [
      "Survived\n",
      "0    549\n",
      "1    342\n",
      "Name: count, dtype: int64\n",
      "Survived\n",
      "0    61.62\n",
      "1    38.38\n",
      "Name: proportion, dtype: float64\n"
     ]
    }
   ],
   "source": [
    "# 假设我们想展示 survival_counts 和 survival_rates 的数据，\n",
    "# 考虑简便，我们可以直接使用 print 打印出相应的内容\n",
    "# 但是，此时通常会显示建议将其转换成 DataFrame格式显示，效果会更好\n",
    "# 因此，请一定采纳这个建议。\n",
    "\n",
    "print(survival_counts)\n",
    "print(survival_rates)"
   ]
  },
  {
   "cell_type": "code",
   "execution_count": 6,
   "id": "087cccef",
   "metadata": {
    "hide": true,
    "tabcaption": "这是经过转换后的表格的标题",
    "tablabel": "tab:example2"
   },
   "outputs": [
    {
     "data": {
      "text/html": [
       "<div>\n",
       "<style scoped>\n",
       "    .dataframe tbody tr th:only-of-type {\n",
       "        vertical-align: middle;\n",
       "    }\n",
       "\n",
       "    .dataframe tbody tr th {\n",
       "        vertical-align: top;\n",
       "    }\n",
       "\n",
       "    .dataframe thead th {\n",
       "        text-align: right;\n",
       "    }\n",
       "</style>\n",
       "<table border=\"1\" class=\"dataframe\">\n",
       "  <thead>\n",
       "    <tr style=\"text-align: right;\">\n",
       "      <th></th>\n",
       "      <th>Counts</th>\n",
       "      <th>Rates</th>\n",
       "    </tr>\n",
       "    <tr>\n",
       "      <th>Survived</th>\n",
       "      <th></th>\n",
       "      <th></th>\n",
       "    </tr>\n",
       "  </thead>\n",
       "  <tbody>\n",
       "    <tr>\n",
       "      <th>0</th>\n",
       "      <td>549</td>\n",
       "      <td>61.62</td>\n",
       "    </tr>\n",
       "    <tr>\n",
       "      <th>1</th>\n",
       "      <td>342</td>\n",
       "      <td>38.38</td>\n",
       "    </tr>\n",
       "  </tbody>\n",
       "</table>\n",
       "</div>"
      ],
      "text/latex": [
       "\\begin{tabular}{lrr}\n",
       "\\toprule\n",
       " & Counts & Rates \\\\\n",
       "Survived &  &  \\\\\n",
       "\\midrule\n",
       "0 & 549 & 61.620000 \\\\\n",
       "1 & 342 & 38.380000 \\\\\n",
       "\\bottomrule\n",
       "\\end{tabular}\n"
      ],
      "text/plain": [
       "          Counts  Rates\n",
       "Survived               \n",
       "0            549  61.62\n",
       "1            342  38.38"
      ]
     },
     "execution_count": 6,
     "metadata": {},
     "output_type": "execute_result"
    }
   ],
   "source": [
    "# 转换为 pd.DataFrame 数据类型。\n",
    "# 由于这样的 cell 通常可以不用显示在正文中，因此建议在此类的 cell 的 metadata 中设置 \"hide\": true \n",
    "survival_df = pd.DataFrame({\n",
    "    \"Counts\": survival_counts,\n",
    "    \"Rates\": survival_rates\n",
    "})\n",
    "\n",
    "survival_df"
   ]
  },
  {
   "cell_type": "code",
   "execution_count": 7,
   "id": "eb8d288b",
   "metadata": {},
   "outputs": [
    {
     "ename": "NameError",
     "evalue": "name 'survival_countss' is not defined",
     "output_type": "error",
     "traceback": [
      "\u001b[1;31m---------------------------------------------------------------------------\u001b[0m",
      "\u001b[1;31mNameError\u001b[0m                                 Traceback (most recent call last)",
      "Cell \u001b[1;32mIn[7], line 2\u001b[0m\n\u001b[0;32m      1\u001b[0m \u001b[38;5;66;03m# 以下会输出错误提示，你应该解决该问题，不要在最终 pdf 文档中出现。如果没解决，你会在生成的 pdf 文档中看见警告\u001b[39;00m\n\u001b[1;32m----> 2\u001b[0m \u001b[38;5;28mprint\u001b[39m(\u001b[43msurvival_countss\u001b[49m)\n\u001b[0;32m      3\u001b[0m \u001b[38;5;28mprint\u001b[39m(survival_ratess)\n",
      "\u001b[1;31mNameError\u001b[0m: name 'survival_countss' is not defined"
     ]
    }
   ],
   "source": [
    "# 以下会输出错误提示，你应该解决该问题，不要在最终 pdf 文档中出现。如果没解决，你会在生成的 pdf 文档中看见警告\n",
    "print(survival_countss)\n",
    "print(survival_ratess)"
   ]
  },
  {
   "cell_type": "code",
   "execution_count": null,
   "id": "89c1d244",
   "metadata": {
    "codecaption": "这是代码块的标题",
    "codelabel": "code:DynamicArray"
   },
   "outputs": [],
   "source": [
    "# 代码片段展示示例\n",
    "class DynamicArray:\n",
    "    def __init__(self):\n",
    "        self.array = []  # 初始化一个空列表，作为动态数组的底层数据结构\n",
    "    def add(self, item):\n",
    "        self.array.append(item)  # 添加元素到数组的末尾\n",
    "    def delete(self, index):\n",
    "        if index >= len(self.array) or index < 0:\n",
    "            print(\"Index out of bounds\")  # 检查索引有效性\n",
    "            return\n",
    "        self.array.pop(index)  # 删除指定索引处的元素\n",
    "    def get(self, index):\n",
    "        if index >= len(self.array) or index < 0:\n",
    "            print(\"Index out of bounds\")  # 检查索引有效性\n",
    "            return None\n",
    "        return self.array[index]  # 访问指定索引处的元素\n",
    "    def __repr__(self):\n",
    "        return str(self.array)  # 返回数组的字符串表示，方便打印"
   ]
  },
  {
   "cell_type": "markdown",
   "id": "de03196d",
   "metadata": {},
   "source": [
    "引用以上代码片段示例: 如代码(\\ref{code:DynamicArray})所示。"
   ]
  },
  {
   "cell_type": "markdown",
   "id": "939ff8d8",
   "metadata": {},
   "source": [
    "\n",
    "\\begin{center}\n",
    "\\Large{\\textbf{\\textcolor{magenta}{警告：请仔细检查生成的 pdf 文档，至少确保没有紫红色的 Warning }}}\n",
    "\\end{center}\n"
   ]
  },
  {
   "cell_type": "markdown",
   "id": "22fcfddd",
   "metadata": {},
   "source": [
    "最后需要说明的是，该文档转换为 pdf 后是支持双面打印的格式，提交课程报告时，如老师强调提交纸质版，请直接双面打印。"
   ]
  },
  {
   "cell_type": "markdown",
   "id": "c5c3a8c5",
   "metadata": {},
   "source": [
    "## 文末参考文献示例"
   ]
  }
 ],
 "metadata": {
  "abstract": "这是一段用于演示在报告中显示摘要的演示内容，实际内容应根据您的研究内容总结和展示。摘要应该展示出您的研究背景、创新的研究方法以及研究结论等内容。",
  "authors": [
   {
    "name": "姓名1（学号）"
   },
   {
    "name": "姓名2（学号）"
   },
   {
    "name": "姓名3（学号）"
   }
  ],
  "bibfile": "bib",
  "bibstyle": "gbt7714-numerical",
  "kernelspec": {
   "display_name": "Python 3 (ipykernel)",
   "language": "python",
   "name": "python3"
  },
  "keywords": "关键词1; 关键词2；关键词3",
  "language_info": {
   "codemirror_mode": {
    "name": "ipython",
    "version": 3
   },
   "file_extension": ".py",
   "mimetype": "text/x-python",
   "name": "python",
   "nbconvert_exporter": "python",
   "pygments_lexer": "ipython3",
   "version": "3.12.3"
  },
  "subtitle": "个人网络在线学习行为分析",
  "title": "《商务智能与数据挖掘》课程报告"
 },
 "nbformat": 4,
 "nbformat_minor": 5
}
